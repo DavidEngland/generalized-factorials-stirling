{
 "cells": [
  {
   "cell_type": "markdown",
   "id": "6f7f9723",
   "metadata": {},
   "source": [
    "# Stirling Measure: Parameter Estimation\n",
    "\n",
    "This notebook demonstrates how to estimate parameters (a,b) from observed data using the Stirling Measure."
   ]
  },
  {
   "cell_type": "code",
   "execution_count": null,
   "id": "1d3eac50",
   "metadata": {},
   "outputs": [],
   "source": [
    "import numpy as np\n",
    "import pandas as pd\n",
    "import matplotlib.pyplot as plt\n",
    "from sklearn.linear_model import LinearRegression\n",
    "import sys\n",
    "import os\n",
    "\n",
    "# Add the project root to the Python path\n",
    "sys.path.append(os.path.abspath(os.path.join(os.getcwd(), '..')))\n",
    "\n",
    "# Import our generalized Stirling implementation\n",
    "from src.core.python.stirling import GeneralizedStirling"
   ]
  },
  {
   "cell_type": "markdown",
   "id": "c7733a32",
   "metadata": {},
   "source": [
    "## 1. Generating Synthetic Data\n",
    "\n",
    "First, let's generate some synthetic data with known parameters a=0.5 and b=1.2"
   ]
  },
  {
   "cell_type": "code",
   "execution_count": null,
   "id": "2f84d7a4",
   "metadata": {},
   "outputs": [],
   "source": [
    "# Set true parameters\n",
    "true_a = 0.5\n",
    "true_b = 1.2\n",
    "\n",
    "# Create a generalized Stirling calculator with these parameters\n",
    "gs = GeneralizedStirling(a=true_a, b=true_b)\n",
    "\n",
    "# Generate (n,k) pairs\n",
    "n_values = range(5, 20)\n",
    "k_values = range(2, 8)\n",
    "\n",
    "data = []\n",
    "for n in n_values:\n",
    "    for k in k_values:\n",
    "        if k <= n:  # Ensure k <= n\n",
    "            # Calculate S_{n,k}, S_{n+1,k}, and S_{n,k-1}\n",
    "            s_n_k = gs.compute(n, k)\n",
    "            s_n_plus_1_k = gs.compute(n+1, k)\n",
    "            s_n_k_minus_1 = gs.compute(n, k-1) if k > 1 else 0\n",
    "            \n",
    "            # Calculate the Stirling measure with some noise\n",
    "            if s_n_k > 0:  # Avoid division by zero\n",
    "                stirling_measure = (s_n_plus_1_k - s_n_k_minus_1) / s_n_k\n",
    "                # Add some noise to make it realistic\n",
    "                noisy_measure = stirling_measure + np.random.normal(0, 0.2)\n",
    "                \n",
    "                data.append({\n",
    "                    'n': n,\n",
    "                    'k': k,\n",
    "                    'S_n_k': s_n_k,\n",
    "                    'S_n_plus_1_k': s_n_plus_1_k,\n",
    "                    'S_n_k_minus_1': s_n_k_minus_1,\n",
    "                    'measure': noisy_measure,\n",
    "                    'true_measure': true_a * n + true_b * k\n",
    "                })\n",
    "\n",
    "# Convert to DataFrame\n",
    "df = pd.DataFrame(data)\n",
    "df.head()"
   ]
  },
  {
   "cell_type": "markdown",
   "id": "cfa052f6",
   "metadata": {},
   "source": [
    "## 2. Estimating Parameters using Linear Regression\n",
    "\n",
    "Now, let's use linear regression to estimate parameters a and b from our data."
   ]
  },
  {
   "cell_type": "code",
   "execution_count": null,
   "id": "36cb2136",
   "metadata": {},
   "outputs": [],
   "source": [
    "# Prepare data for regression\n",
    "X = df[['n', 'k']].values\n",
    "y = df['measure'].values\n",
    "\n",
    "# Fit linear regression model\n",
    "model = LinearRegression()\n",
    "model.fit(X, y)\n",
    "\n",
    "# Extract estimated parameters\n",
    "estimated_a = model.coef_[0]\n",
    "estimated_b = model.coef_[1]\n",
    "\n",
    "print(f\"True parameters: a={true_a}, b={true_b}\")\n",
    "print(f\"Estimated parameters: a={estimated_a:.4f}, b={estimated_b:.4f}\")"
   ]
  },
  {
   "cell_type": "markdown",
   "id": "7049ae1f",
   "metadata": {},
   "source": [
    "## 3. Visualizing the Results\n",
    "\n",
    "Let's visualize how well our estimated parameters match the true values."
   ]
  },
  {
   "cell_type": "code",
   "execution_count": null,
   "id": "27259903",
   "metadata": {},
   "outputs": [],
   "source": [
    "# Calculate predicted values\n",
    "df['predicted_measure'] = estimated_a * df['n'] + estimated_b * df['k']\n",
    "\n",
    "# Create the plot\n",
    "plt.figure(figsize=(12, 6))\n",
    "\n",
    "# Create 3D scatter plot\n",
    "ax = plt.axes(projection='3d')\n",
    "ax.scatter3D(df['n'], df['k'], df['measure'], c='blue', label='Observed')\n",
    "ax.scatter3D(df['n'], df['k'], df['true_measure'], c='green', alpha=0.5, label='True')\n",
    "ax.scatter3D(df['n'], df['k'], df['predicted_measure'], c='red', alpha=0.5, label='Predicted')\n",
    "\n",
    "ax.set_xlabel('n (number of elements)')\n",
    "ax.set_ylabel('k (number of groups)')\n",
    "ax.set_zlabel('Stirling Measure')\n",
    "ax.set_title('Stirling Measure: True vs. Estimated')\n",
    "plt.legend()\n",
    "plt.show()"
   ]
  },
  {
   "cell_type": "markdown",
   "id": "026007e2",
   "metadata": {},
   "source": [
    "## 4. Using the Estimated Parameters for Predictions\n",
    "\n",
    "Now let's see how our estimated parameters perform in predicting future clustering behavior."
   ]
  },
  {
   "cell_type": "code",
   "execution_count": null,
   "id": "8cce3834",
   "metadata": {},
   "outputs": [],
   "source": [
    "# Create a new generalized Stirling calculator with estimated parameters\n",
    "gs_estimated = GeneralizedStirling(a=estimated_a, b=estimated_b)\n",
    "\n",
    "# Compare values for a few test cases\n",
    "test_cases = [(25, 5), (30, 8), (40, 10)]\n",
    "results = []\n",
    "\n",
    "for n, k in test_cases:\n",
    "    true_value = gs.compute(n, k)\n",
    "    estimated_value = gs_estimated.compute(n, k)\n",
    "    error_pct = abs((estimated_value - true_value) / true_value * 100) if true_value != 0 else float('inf')\n",
    "    \n",
    "    results.append({\n",
    "        'n': n,\n",
    "        'k': k,\n",
    "        'true_value': true_value,\n",
    "        'estimated_value': estimated_value,\n",
    "        'error_pct': error_pct\n",
    "    })\n",
    "\n",
    "pd.DataFrame(results)"
   ]
  },
  {
   "cell_type": "markdown",
   "id": "b7dcc4e0",
   "metadata": {},
   "source": [
    "## 5. Real-World Application: Route Optimization\n",
    "\n",
    "In a real-world scenario, we would:\n",
    "1. Observe how deliveries naturally cluster into routes\n",
    "2. Calculate the Stirling measure for each observation\n",
    "3. Estimate parameters a and b\n",
    "4. Use these parameters to make optimal decisions about route assignments\n",
    "\n",
    "For example, when deciding whether to assign a new delivery to an existing route or create a new route, we would compare:\n",
    "- Cost of adding to existing route: (a*n + b*k) * S(n,k)\n",
    "- Cost of creating new route: S(n,k-1)\n",
    "\n",
    "This provides a mathematically sound basis for making routing decisions that align with the natural tendencies of our specific delivery environment."
   ]
  }
 ],
 "metadata": {
  "language_info": {
   "name": "python"
  }
 },
 "nbformat": 4,
 "nbformat_minor": 5
}
